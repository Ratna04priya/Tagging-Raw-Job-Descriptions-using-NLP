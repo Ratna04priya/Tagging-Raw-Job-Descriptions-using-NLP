{
 "cells": [
  {
   "cell_type": "markdown",
   "metadata": {},
   "source": [
    "# Indeed / Hackerrank.com Machine Learning Contest\n",
    "\n",
    "### By Stephen Fox\n",
    "### April 2017\n",
    "_____\n",
    "\n",
    "## Overview\n",
    "The objective is to accurately tag job descriptions with one of 12 tags (e.g. '5-plus-years-experience-needed'). More details are provided in the accompanying README and project report (.pdf)."
   ]
  },
  {
   "cell_type": "code",
   "execution_count": 2,
   "metadata": {
    "collapsed": false
   },
   "outputs": [
    {
     "name": "stdout",
     "output_type": "stream",
     "text": [
      "Data read successfully!\n",
      "Number of train points: 4375\n",
      "Number of test points: 2921\n",
      "\n",
      "\n",
      "Train file headers:\n",
      "\n",
      "\n",
      "Index([u'tags', u'description'], dtype='object')\n",
      "\n",
      "\n",
      "Test file headers:\n",
      "\n",
      "\n",
      "Index([u'description'], dtype='object')\n"
     ]
    }
   ],
   "source": [
    "# Import the pandas package, then use the \"read_csv\" function to read\n",
    "# the labeled training data\n",
    "\n",
    "import pandas as pd       \n",
    "train = pd.read_csv(\"train.tsv\", header=0, \\\n",
    "                    delimiter=\"\\t\", quoting=3)\n",
    "\n",
    "test = pd.read_csv(\"test.tsv\", header=0, \\\n",
    "                    delimiter=\"\\t\", quoting=3)\n",
    "\n",
    "print \"Data read successfully!\"\n",
    "print \"Number of train points:\", len(train)\n",
    "print \"Number of test points:\", len(test)\n",
    "\n",
    "# Print the column headers\n",
    "print \"\\n\"\n",
    "print \"Train file headers:\"\n",
    "print \"\\n\"\n",
    "print train.dtypes.index\n",
    "\n",
    "print \"\\n\"\n",
    "print \"Test file headers:\"\n",
    "print \"\\n\"\n",
    "print test.dtypes.index\n"
   ]
  },
  {
   "cell_type": "code",
   "execution_count": 3,
   "metadata": {
    "collapsed": false
   },
   "outputs": [
    {
     "name": "stdout",
     "output_type": "stream",
     "text": [
      "THE COMPANY    Employer is a midstream service provider to the onshore Oil and Gas markets.  It is a a fast growing filtration technology company providing environmentally sound solutions to the E&P’s for water and drilling fluids management and recycling.    THE POSITION    The North Dakota Regional Technical Sales Representative reports directly to the VP of Sales and covers a territory that includes North Dakota and surrounding areas of South Dakota, Wyoming and Montana.  Specific duties for this position include but are not limited to:     Building sales volume within the established territory from existing and new accounts   Set up and maintain a strategic sales plan for the territory   Present technical presentations, product demonstrations & training   Maintain direct contact with customers, distributors and representatives   Prospect new customer contacts and referrals   Gather and record customer & competitor information   Provide accurate and updated forecasts for the territory   Identify new product opportunities   Build long-term relationships with customers, reps & distributors    CANDIDATE REQUIREMENT    The ideal candidate will possess technical degree, preferably in the oil & gas discipline and/or 5+ years of experience preferably with exploration and production companies (midstream service companies are a big plus).      Other desired requirements include but are not limited to:     Consistent record of superior sales results & experience closing sales   Proven ability to cold-call, develop relationships   Excellent written and verbal communication skills.    Strong computer skills, including Word, Excel, PowerPoint, e-mail, etc.   Strong work ethic and ability to work independently.   Must be willing to develop new business – not just maintain current accounts   Ability to travel extensively throughout assigned region    If you are a self-motivated individual with strong engineering, and leadership skills and a desire to build a stronger, more advanced organization we encourage you to apply.      Position is located in North Dakota, but sales representative could live as far away as Casper, Wyoming or Billings, Montana.     Successful candidates must pass a post offer background and drug screen.    EOE         \n"
     ]
    }
   ],
   "source": [
    "# Examine a typical job description\n",
    "\n",
    "example1 = train[\"description\"][0]\n",
    "print example1"
   ]
  },
  {
   "cell_type": "code",
   "execution_count": 4,
   "metadata": {
    "collapsed": false
   },
   "outputs": [
    {
     "name": "stdout",
     "output_type": "stream",
     "text": [
      "THE COMPANY    Employer is a midstream service provider to the onshore Oil and Gas markets   It is a a fast growing filtration technology company providing environmentally sound solutions to the E P   s for water and drilling fluids management and recycling     THE POSITION    The North Dakota Regional Technical Sales Representative reports directly to the VP of Sales and covers a territory that includes North Dakota and surrounding areas of South Dakota  Wyoming and Montana   Specific duties for this position include but are not limited to         Building sales volume within the established territory from existing and new accounts      Set up and maintain a strategic sales plan for the territory      Present technical presentations  product demonstrations   training      Maintain direct contact with customers  distributors and representatives      Prospect new customer contacts and referrals      Gather and record customer   competitor information      Provide accurate and updated forecasts for the territory      Identify new product opportunities      Build long term relationships with customers  reps   distributors    CANDIDATE REQUIREMENT    The ideal candidate will possess technical degree  preferably in the oil   gas discipline and or 5  years of experience preferably with exploration and production companies  midstream service companies are a big plus        Other desired requirements include but are not limited to         Consistent record of superior sales results   experience closing sales      Proven ability to cold call  develop relationships      Excellent written and verbal communication skills        Strong computer skills  including Word  Excel  PowerPoint  e mail  etc       Strong work ethic and ability to work independently       Must be willing to develop new business     not just maintain current accounts      Ability to travel extensively throughout assigned region    If you are a self motivated individual with strong engineering  and leadership skills and a desire to build a stronger  more advanced organization we encourage you to apply       Position is located in North Dakota  but sales representative could live as far away as Casper  Wyoming or Billings  Montana      Successful candidates must pass a post offer background and drug screen     EOE         \n"
     ]
    }
   ],
   "source": [
    "# Remove punctuation and weird characters (e.g. )\n",
    "import re\n",
    "\n",
    "# Use regular expressions to do a find-and-replace\n",
    "letters_only = re.sub(\"[^a-zA-Z0-9]\",           # The pattern to search for\n",
    "                      \" \",                   # The pattern to replace it with\n",
    "                      example1)  # The text to search\n",
    "print letters_only"
   ]
  },
  {
   "cell_type": "code",
   "execution_count": 5,
   "metadata": {
    "collapsed": false
   },
   "outputs": [
    {
     "name": "stdout",
     "output_type": "stream",
     "text": [
      "['the', 'company', 'employer', 'is', 'a', 'midstream', 'service', 'provider', 'to', 'the', 'onshore', 'oil', 'and', 'gas', 'markets', 'it', 'is', 'a', 'a', 'fast', 'growing', 'filtration', 'technology', 'company', 'providing', 'environmentally', 'sound', 'solutions', 'to', 'the', 'e', 'p', 's', 'for', 'water', 'and', 'drilling', 'fluids', 'management', 'and', 'recycling', 'the', 'position', 'the', 'north', 'dakota', 'regional', 'technical', 'sales', 'representative', 'reports', 'directly', 'to', 'the', 'vp', 'of', 'sales', 'and', 'covers', 'a', 'territory', 'that', 'includes', 'north', 'dakota', 'and', 'surrounding', 'areas', 'of', 'south', 'dakota', 'wyoming', 'and', 'montana', 'specific', 'duties', 'for', 'this', 'position', 'include', 'but', 'are', 'not', 'limited', 'to', 'building', 'sales', 'volume', 'within', 'the', 'established', 'territory', 'from', 'existing', 'and', 'new', 'accounts', 'set', 'up', 'and', 'maintain', 'a', 'strategic', 'sales', 'plan', 'for', 'the', 'territory', 'present', 'technical', 'presentations', 'product', 'demonstrations', 'training', 'maintain', 'direct', 'contact', 'with', 'customers', 'distributors', 'and', 'representatives', 'prospect', 'new', 'customer', 'contacts', 'and', 'referrals', 'gather', 'and', 'record', 'customer', 'competitor', 'information', 'provide', 'accurate', 'and', 'updated', 'forecasts', 'for', 'the', 'territory', 'identify', 'new', 'product', 'opportunities', 'build', 'long', 'term', 'relationships', 'with', 'customers', 'reps', 'distributors', 'candidate', 'requirement', 'the', 'ideal', 'candidate', 'will', 'possess', 'technical', 'degree', 'preferably', 'in', 'the', 'oil', 'gas', 'discipline', 'and', 'or', '5', 'years', 'of', 'experience', 'preferably', 'with', 'exploration', 'and', 'production', 'companies', 'midstream', 'service', 'companies', 'are', 'a', 'big', 'plus', 'other', 'desired', 'requirements', 'include', 'but', 'are', 'not', 'limited', 'to', 'consistent', 'record', 'of', 'superior', 'sales', 'results', 'experience', 'closing', 'sales', 'proven', 'ability', 'to', 'cold', 'call', 'develop', 'relationships', 'excellent', 'written', 'and', 'verbal', 'communication', 'skills', 'strong', 'computer', 'skills', 'including', 'word', 'excel', 'powerpoint', 'e', 'mail', 'etc', 'strong', 'work', 'ethic', 'and', 'ability', 'to', 'work', 'independently', 'must', 'be', 'willing', 'to', 'develop', 'new', 'business', 'not', 'just', 'maintain', 'current', 'accounts', 'ability', 'to', 'travel', 'extensively', 'throughout', 'assigned', 'region', 'if', 'you', 'are', 'a', 'self', 'motivated', 'individual', 'with', 'strong', 'engineering', 'and', 'leadership', 'skills', 'and', 'a', 'desire', 'to', 'build', 'a', 'stronger', 'more', 'advanced', 'organization', 'we', 'encourage', 'you', 'to', 'apply', 'position', 'is', 'located', 'in', 'north', 'dakota', 'but', 'sales', 'representative', 'could', 'live', 'as', 'far', 'away', 'as', 'casper', 'wyoming', 'or', 'billings', 'montana', 'successful', 'candidates', 'must', 'pass', 'a', 'post', 'offer', 'background', 'and', 'drug', 'screen', 'eoe']\n"
     ]
    }
   ],
   "source": [
    "# Convert all to lower case and split words\n",
    "\n",
    "lower_case = letters_only.lower()        # Convert to lower case\n",
    "words = lower_case.split()               # Split into words\n",
    "print words"
   ]
  },
  {
   "cell_type": "code",
   "execution_count": 6,
   "metadata": {
    "collapsed": false
   },
   "outputs": [
    {
     "name": "stdout",
     "output_type": "stream",
     "text": [
      "[u'i', u'me', u'my', u'myself', u'we', u'our', u'ours', u'ourselves', u'you', u'your', u'yours', u'yourself', u'yourselves', u'he', u'him', u'his', u'himself', u'she', u'her', u'hers', u'herself', u'it', u'its', u'itself', u'they', u'them', u'their', u'theirs', u'themselves', u'what', u'which', u'who', u'whom', u'this', u'that', u'these', u'those', u'am', u'is', u'are', u'was', u'were', u'be', u'been', u'being', u'have', u'has', u'had', u'having', u'do', u'does', u'did', u'doing', u'a', u'an', u'the', u'and', u'but', u'if', u'or', u'because', u'as', u'until', u'while', u'of', u'at', u'by', u'for', u'with', u'about', u'against', u'between', u'into', u'through', u'during', u'before', u'after', u'above', u'below', u'to', u'from', u'up', u'down', u'in', u'out', u'on', u'off', u'over', u'under', u'again', u'further', u'then', u'once', u'here', u'there', u'when', u'where', u'why', u'how', u'all', u'any', u'both', u'each', u'few', u'more', u'most', u'other', u'some', u'such', u'no', u'nor', u'not', u'only', u'own', u'same', u'so', u'than', u'too', u'very', u's', u't', u'can', u'will', u'just', u'don', u'should', u'now', u'd', u'll', u'm', u'o', u're', u've', u'y', u'ain', u'aren', u'couldn', u'didn', u'doesn', u'hadn', u'hasn', u'haven', u'isn', u'ma', u'mightn', u'mustn', u'needn', u'shan', u'shouldn', u'wasn', u'weren', u'won', u'wouldn']\n"
     ]
    }
   ],
   "source": [
    "# Remove english stop words\n",
    "\n",
    "from nltk.corpus import stopwords # Import the stop word list\n",
    "print stopwords.words(\"english\") "
   ]
  },
  {
   "cell_type": "code",
   "execution_count": 7,
   "metadata": {
    "collapsed": false
   },
   "outputs": [
    {
     "name": "stdout",
     "output_type": "stream",
     "text": [
      "['company', 'employer', 'midstream', 'service', 'provider', 'onshore', 'oil', 'gas', 'markets', 'fast', 'growing', 'filtration', 'technology', 'company', 'providing', 'environmentally', 'sound', 'solutions', 'e', 'p', 'water', 'drilling', 'fluids', 'management', 'recycling', 'position', 'north', 'dakota', 'regional', 'technical', 'sales', 'representative', 'reports', 'directly', 'vp', 'sales', 'covers', 'territory', 'includes', 'north', 'dakota', 'surrounding', 'areas', 'south', 'dakota', 'wyoming', 'montana', 'specific', 'duties', 'position', 'include', 'limited', 'building', 'sales', 'volume', 'within', 'established', 'territory', 'existing', 'new', 'accounts', 'set', 'maintain', 'strategic', 'sales', 'plan', 'territory', 'present', 'technical', 'presentations', 'product', 'demonstrations', 'training', 'maintain', 'direct', 'contact', 'customers', 'distributors', 'representatives', 'prospect', 'new', 'customer', 'contacts', 'referrals', 'gather', 'record', 'customer', 'competitor', 'information', 'provide', 'accurate', 'updated', 'forecasts', 'territory', 'identify', 'new', 'product', 'opportunities', 'build', 'long', 'term', 'relationships', 'customers', 'reps', 'distributors', 'candidate', 'requirement', 'ideal', 'candidate', 'possess', 'technical', 'degree', 'preferably', 'oil', 'gas', 'discipline', '5', 'years', 'experience', 'preferably', 'exploration', 'production', 'companies', 'midstream', 'service', 'companies', 'big', 'plus', 'desired', 'requirements', 'include', 'limited', 'consistent', 'record', 'superior', 'sales', 'results', 'experience', 'closing', 'sales', 'proven', 'ability', 'cold', 'call', 'develop', 'relationships', 'excellent', 'written', 'verbal', 'communication', 'skills', 'strong', 'computer', 'skills', 'including', 'word', 'excel', 'powerpoint', 'e', 'mail', 'etc', 'strong', 'work', 'ethic', 'ability', 'work', 'independently', 'must', 'willing', 'develop', 'new', 'business', 'maintain', 'current', 'accounts', 'ability', 'travel', 'extensively', 'throughout', 'assigned', 'region', 'self', 'motivated', 'individual', 'strong', 'engineering', 'leadership', 'skills', 'desire', 'build', 'stronger', 'advanced', 'organization', 'encourage', 'apply', 'position', 'located', 'north', 'dakota', 'sales', 'representative', 'could', 'live', 'far', 'away', 'casper', 'wyoming', 'billings', 'montana', 'successful', 'candidates', 'must', 'pass', 'post', 'offer', 'background', 'drug', 'screen', 'eoe']\n"
     ]
    }
   ],
   "source": [
    "# Remove stop words from \"words\"\n",
    "words = [w for w in words if not w in stopwords.words(\"english\")]\n",
    "print words"
   ]
  },
  {
   "cell_type": "code",
   "execution_count": 8,
   "metadata": {
    "collapsed": true
   },
   "outputs": [],
   "source": [
    "# Define a function to clean up the text input, combining the previously evaluated methods\n",
    "\n",
    "from bs4 import BeautifulSoup\n",
    "\n",
    "def job_to_words( raw_job ):\n",
    "    # Function to convert a raw job posting to a string of words\n",
    "    # The input is a single string (a raw job description), and \n",
    "    # the output is a single string (a preprocessed job description)\n",
    "    #\n",
    "    # 1. Remove HTML\n",
    "    job_text = BeautifulSoup(raw_job, \"lxml\").get_text() \n",
    "    #\n",
    "    # 1. Remove non-letters        \n",
    "    letters_only = re.sub(\"[^a-zA-Z0-9]\", \" \", job_text) \n",
    "    #\n",
    "    # 2. Convert to lower case, split into individual words\n",
    "    words = letters_only.lower().split()                             \n",
    "    #\n",
    "    # 3. In Python, searching a set is much faster than searching\n",
    "    #   a list, so convert the stop words to a set\n",
    "    stops = set(stopwords.words(\"english\"))                  \n",
    "    # \n",
    "    # 4. Remove stop words\n",
    "    meaningful_words = [w for w in words if not w in stops]   \n",
    "    #\n",
    "    # 5. Join the words back into one string separated by space, \n",
    "    # and return the result.\n",
    "    return( \" \".join( meaningful_words ))"
   ]
  },
  {
   "cell_type": "code",
   "execution_count": 9,
   "metadata": {
    "collapsed": false
   },
   "outputs": [
    {
     "name": "stdout",
     "output_type": "stream",
     "text": [
      "company employer midstream service provider onshore oil gas markets fast growing filtration technology company providing environmentally sound solutions e p water drilling fluids management recycling position north dakota regional technical sales representative reports directly vp sales covers territory includes north dakota surrounding areas south dakota wyoming montana specific duties position include limited building sales volume within established territory existing new accounts set maintain strategic sales plan territory present technical presentations product demonstrations training maintain direct contact customers distributors representatives prospect new customer contacts referrals gather record customer competitor information provide accurate updated forecasts territory identify new product opportunities build long term relationships customers reps distributors candidate requirement ideal candidate possess technical degree preferably oil gas discipline 5 years experience preferably exploration production companies midstream service companies big plus desired requirements include limited consistent record superior sales results experience closing sales proven ability cold call develop relationships excellent written verbal communication skills strong computer skills including word excel powerpoint e mail etc strong work ethic ability work independently must willing develop new business maintain current accounts ability travel extensively throughout assigned region self motivated individual strong engineering leadership skills desire build stronger advanced organization encourage apply position located north dakota sales representative could live far away casper wyoming billings montana successful candidates must pass post offer background drug screen eoe\n"
     ]
    }
   ],
   "source": [
    "# Check the output on an example\n",
    "\n",
    "clean_job = job_to_words( example1 )\n",
    "print clean_job"
   ]
  },
  {
   "cell_type": "code",
   "execution_count": 10,
   "metadata": {
    "collapsed": false
   },
   "outputs": [
    {
     "name": "stdout",
     "output_type": "stream",
     "text": [
      "Cleaning and parsing the training set job descriptions...\n",
      "\n",
      "Job 1000 of 4375\n",
      "\n",
      "Job 2000 of 4375\n",
      "\n",
      "Job 3000 of 4375\n",
      "\n",
      "Job 4000 of 4375\n",
      "\n"
     ]
    }
   ],
   "source": [
    "# Get the number of jobs based on the dataframe column size\n",
    "num_jobs = train[\"description\"].size\n",
    "\n",
    "# Initialize an empty list to hold the clean jobs\n",
    "clean_train_jobs = []\n",
    "\n",
    "print \"Cleaning and parsing the training set job descriptions...\\n\"\n",
    "\n",
    "# Loop over each job; create an index i that goes from 0 to the length\n",
    "# of the job list \n",
    "for i in xrange( 0, num_jobs ):\n",
    "    # Call our function for each one, and add the result to the list of\n",
    "\n",
    "    # If the index is evenly divisible by 1000, print a message\n",
    "    if( (i+1)%1000 == 0 ):\n",
    "        print \"Job %d of %d\\n\" % ( i+1, num_jobs )                                                                    \n",
    "\n",
    "    # clean jobs\n",
    "    clean_train_jobs.append( job_to_words( train[\"description\"][i] ) )    "
   ]
  },
  {
   "cell_type": "code",
   "execution_count": 11,
   "metadata": {
    "collapsed": false
   },
   "outputs": [
    {
     "name": "stdout",
     "output_type": "stream",
     "text": [
      "company employer midstream service provider onshore oil gas markets fast growing filtration technology company providing environmentally sound solutions e p water drilling fluids management recycling position north dakota regional technical sales representative reports directly vp sales covers territory includes north dakota surrounding areas south dakota wyoming montana specific duties position include limited building sales volume within established territory existing new accounts set maintain strategic sales plan territory present technical presentations product demonstrations training maintain direct contact customers distributors representatives prospect new customer contacts referrals gather record customer competitor information provide accurate updated forecasts territory identify new product opportunities build long term relationships customers reps distributors candidate requirement ideal candidate possess technical degree preferably oil gas discipline 5 years experience preferably exploration production companies midstream service companies big plus desired requirements include limited consistent record superior sales results experience closing sales proven ability cold call develop relationships excellent written verbal communication skills strong computer skills including word excel powerpoint e mail etc strong work ethic ability work independently must willing develop new business maintain current accounts ability travel extensively throughout assigned region self motivated individual strong engineering leadership skills desire build stronger advanced organization encourage apply position located north dakota sales representative could live far away casper wyoming billings montana successful candidates must pass post offer background drug screen eoe\n",
      "licence-needed supervising-job 5-plus-years-experience-needed\n"
     ]
    }
   ],
   "source": [
    "print clean_train_jobs[0]\n",
    "print train[\"tags\"][0]"
   ]
  },
  {
   "cell_type": "code",
   "execution_count": 12,
   "metadata": {
    "collapsed": false
   },
   "outputs": [
    {
     "name": "stdout",
     "output_type": "stream",
     "text": [
      "found it\n",
      "1792\n"
     ]
    }
   ],
   "source": [
    "# Look for instances where number is followed by 'year..':\n",
    "\n",
    "number_list=['0','1','2','3','4','5','6','7','8','9','10','11','12','13','14','15']\n",
    "i = 0\n",
    "for word in clean_train_jobs[0]:\n",
    "    if word in number_list:\n",
    "        print \"found it\"\n",
    "    else:\n",
    "        i+=1\n",
    "print i"
   ]
  },
  {
   "cell_type": "code",
   "execution_count": 13,
   "metadata": {
    "collapsed": false
   },
   "outputs": [
    {
     "name": "stdout",
     "output_type": "stream",
     "text": [
      "Creating the bag of words for descriptions...\n",
      "\n"
     ]
    }
   ],
   "source": [
    "print \"Creating the bag of words for descriptions...\\n\"\n",
    "from sklearn.feature_extraction.text import CountVectorizer\n",
    "\n",
    "# Initialize the \"CountVectorizer\" object, which is scikit-learn's\n",
    "# bag of words tool.  \n",
    "vectorizer1 = CountVectorizer(analyzer = \"word\",   \\\n",
    "                             tokenizer = None,    \\\n",
    "                             preprocessor = None, \\\n",
    "                             stop_words = None,   \\\n",
    "                             max_features = 2000,\n",
    "                              ngram_range = (1,4)) \n",
    "\n",
    "# fit_transform() does two functions: First, it fits the model\n",
    "# and learns the vocabulary; second, it transforms our training data\n",
    "# into feature vectors. The input to fit_transform should be a list of \n",
    "# strings.\n",
    "train_data_features = vectorizer1.fit_transform(clean_train_jobs)\n",
    "\n",
    "# Numpy arrays are easy to work with, so convert the result to an \n",
    "# array\n",
    "train_data_features = train_data_features.toarray()"
   ]
  },
  {
   "cell_type": "code",
   "execution_count": 14,
   "metadata": {
    "collapsed": false
   },
   "outputs": [
    {
     "name": "stdout",
     "output_type": "stream",
     "text": [
      "Cleaning and parsing the training set job labels...\n",
      "\n",
      "Job 1000 of 4375\n",
      "\n",
      "Job 2000 of 4375\n",
      "\n",
      "Job 3000 of 4375\n",
      "\n",
      "Job 4000 of 4375\n",
      "\n",
      "Sample training labels: \n",
      "licence-needed supervising-job 5-plus-years-experience-needed\n"
     ]
    }
   ],
   "source": [
    "# Use a similar approach to vectorize the training labels\n",
    "\n",
    "# Get the number of jobs based on the dataframe column size\n",
    "num_data = train[\"tags\"].size\n",
    "\n",
    "# Initialize an empty list to hold the clean job labels\n",
    "train_labels = []\n",
    "\n",
    "print \"Cleaning and parsing the training set job labels...\\n\"\n",
    "\n",
    "# Loop over each job; create an index i that goes from 0 to the length\n",
    "# of the job list \n",
    "for i in xrange( 0, num_data ):\n",
    "    # Call our function for each one, and add the result to the list of\n",
    "\n",
    "    # If the index is evenly divisible by 1000, print a message\n",
    "    if( (i+1)%1000 == 0 ):\n",
    "        print \"Job %d of %d\\n\" % ( i+1, num_data )                                                                    \n",
    "\n",
    "    # clean out NaN\n",
    "    if type(train[\"tags\"][i]) != str:\n",
    "        train[\"tags\"][i] = ''\n",
    "    train_labels.append(train[\"tags\"][i]) \n",
    "\n",
    "print \"Sample training labels: \\n\", train_labels[0]"
   ]
  },
  {
   "cell_type": "code",
   "execution_count": 15,
   "metadata": {
    "collapsed": false
   },
   "outputs": [
    {
     "name": "stdout",
     "output_type": "stream",
     "text": [
      "Creating the bag of words for job labels...\n",
      "\n",
      "Sample vectorized training labels: \n",
      "[0 0 1 0 0 0 0 1 0 0 0 1]\n"
     ]
    }
   ],
   "source": [
    "print \"Creating the bag of words for job labels...\\n\"\n",
    "from sklearn.feature_extraction.text import CountVectorizer\n",
    "\n",
    "# Keep words hyphenated\n",
    "pattern = \"(?u)\\\\b[\\\\w-]+\\\\b\"\n",
    "\n",
    "# Initialize the \"CountVectorizer\" object, which is scikit-learn's\n",
    "# bag of words tool.  \n",
    "vectorizer2 = CountVectorizer(analyzer = \"word\",   \\\n",
    "                             tokenizer = None,    \\\n",
    "                             preprocessor = None, \\\n",
    "                             stop_words = None,   \\\n",
    "                             max_features = 5000,\n",
    "                             token_pattern=pattern) \n",
    "\n",
    "# fit_transform() does two functions: First, it fits the model\n",
    "# and learns the vocabulary; second, it transforms our training data\n",
    "# into feature vectors. The input to fit_transform should be a list of \n",
    "# strings.\n",
    "train_data_labels = vectorizer2.fit_transform(train_labels)\n",
    "\n",
    "# Numpy arrays are easy to work with, so convert the result to an \n",
    "# array\n",
    "train_data_labels = train_data_labels.toarray()\n",
    "\n",
    "print \"Sample vectorized training labels: \\n\",train_data_labels[0]"
   ]
  },
  {
   "cell_type": "code",
   "execution_count": 16,
   "metadata": {
    "collapsed": false
   },
   "outputs": [
    {
     "name": "stdout",
     "output_type": "stream",
     "text": [
      "Confirm training data description shape: \n",
      "(4375, 2000)\n",
      "Confirm training data labels shape: \n",
      "(4375, 12)\n"
     ]
    }
   ],
   "source": [
    "print \"Confirm training data description shape: \\n\", train_data_features.shape\n",
    "print \"Confirm training data labels shape: \\n\",train_data_labels.shape"
   ]
  },
  {
   "cell_type": "code",
   "execution_count": 17,
   "metadata": {
    "collapsed": false
   },
   "outputs": [
    {
     "name": "stdout",
     "output_type": "stream",
     "text": [
      "Job label vocabulary: \n",
      "[u'00', u'000', u'00pm', u'10', u'10 years', u'100', u'11', u'12', u'13', u'14', u'15', u'18', u'20', u'2010', u'2012', u'2013', u'2014', u'24', u'25', u'30', u'40', u'40 hours', u'401', u'401k', u'50', u'500', u'60', u'75', u'80', u'90', u'abilities', u'ability', u'ability communicate', u'ability effectively', u'ability manage', u'ability multi', u'ability multi task', u'ability read', u'ability work', u'ability work independently', u'able', u'able pass', u'able work', u'academic', u'access', u'accommodations', u'accommodations may', u'accommodations may made', u'accommodations may made enable', u'accordance', u'according', u'account', u'account executive', u'account manager', u'accountability', u'accountable', u'accounting', u'accounts', u'accredited', u'accuracy', u'accurate', u'accurately', u'achieve', u'achieving', u'acquisition', u'across', u'act', u'action', u'actions', u'active', u'actively', u'activities', u'activity', u'ad', u'adapt', u'add', u'addition', u'additional', u'address', u'adhere', u'adherence', u'administration', u'administrative', u'administrator', u'adobe', u'advance', u'advanced', u'advancement', u'advertising', u'age', u'agencies', u'agency', u'agent', u'agents', u'agile', u'air', u'along', u'also', u'always', u'america', u'american', u'analysis', u'analyst', u'analytical', u'analytical skills', u'analytics', u'analyze', u'analyzing', u'annual', u'answer', u'answering', u'appearance', u'applicable', u'applicant', u'applicants', u'applicants must', u'application', u'applications', u'apply', u'apply online', u'apply please', u'applying', u'appointment', u'appointments', u'approach', u'appropriate', u'approval', u'approved', u'approximately', u'architecture', u'area', u'areas', u'around', u'art', u'asp', u'aspects', u'assess', u'assessment', u'assessments', u'asset', u'assets', u'assigned', u'assignments', u'assist', u'assistance', u'assistant', u'assisting', u'assists', u'associate', u'associated', u'associates', u'assurance', u'assure', u'atmosphere', u'attend', u'attendance', u'attention', u'attention detail', u'attitude', u'audit', u'audits', u'auto', u'automation', u'automotive', u'availability', u'available', u'average', u'award', u'awareness', u'b2b', u'ba', u'bachelor', u'bachelor degree', u'bachelors', u'bachelors degree', u'back', u'background', u'background check', u'balance', u'bank', u'banking', u'base', u'base salary', u'based', u'based experience', u'basic', u'basis', u'become', u'behavior', u'behavioral', u'believe', u'benefit', u'benefits', u'benefits package', u'best', u'best practices', u'better', u'bi', u'big', u'bilingual', u'billing', u'board', u'bonus', u'bonuses', u'book', u'branch', u'brand', u'brands', u'bring', u'broad', u'bs', u'budget', u'budgets', u'build', u'building', u'built', u'business', u'business development', u'business requirements', u'businesses', u'busy', u'ca', u'california', u'call', u'call center', u'call xxx', u'calling', u'calls', u'campaign', u'campaigns', u'candidate', u'candidate must', u'candidates', u'candidates must', u'capabilities', u'capable', u'capacity', u'capital', u'car', u'card', u'care', u'career', u'carry', u'case', u'cases', u'cash', u'casual', u'cdl', u'cell', u'center', u'centers', u'central', u'ceo', u'certification', u'certifications', u'certified', u'chain', u'challenges', u'challenging', u'change', u'changes', u'changing', u'channel', u'channels', u'check', u'checks', u'chicago', u'child', u'children', u'city', u'claims', u'class', u'classes', u'clean', u'cleaning', u'clear', u'clearance', u'clearly', u'clerical', u'click', u'client', u'clients', u'clinic', u'clinical', u'close', u'closely', u'closing', u'cloud', u'club', u'co', u'co workers', u'coach', u'coaching', u'code', u'codes', u'coding', u'cold', u'cold calling', u'collaborate', u'collaboration', u'collaborative', u'collection', u'college', u'college degree', u'color', u'com', u'combination', u'come', u'comfortable', u'commensurate', u'commensurate experience', u'commerce', u'commercial', u'commission', u'commissions', u'commitment', u'committed', u'common', u'communicate', u'communicate effectively', u'communicates', u'communicating', u'communication', u'communication skills', u'communication skills ability', u'communications', u'communities', u'community', u'companies', u'company', u'company looking', u'company policies', u'compensation', u'compensation package', u'competencies', u'competitive', u'competitive compensation', u'competitive pay', u'competitive salary', u'complaints', u'complete', u'completed', u'completes', u'completing', u'completion', u'complex', u'compliance', u'components', u'comprehensive', u'computer', u'computer science', u'computer skills', u'computers', u'concepts', u'concerns', u'condition', u'conditions', u'conduct', u'conducting', u'confidence', u'confident', u'confidential', u'confidentiality', u'configuration', u'consider', u'consideration', u'considered', u'consistent', u'consistently', u'construction', u'consultant', u'consultants', u'consulting', u'consumer', u'consumers', u'contact', u'contacts', u'content', u'continue', u'continuing', u'continuous', u'continuously', u'contract', u'contractor', u'contractors', u'contracts', u'contribute', u'control', u'controls', u'coordinate', u'coordinates', u'coordinating', u'coordination', u'coordinator', u'copy', u'core', u'corporate', u'corporation', u'correct', u'corrective', u'correspondence', u'cost', u'costs', u'could', u'counseling', u'country', u'county', u'course', u'cover', u'cover letter', u'cover letter resume', u'coverage', u'cpr', u'create', u'creates', u'creating', u'creation', u'creative', u'credit', u'criminal', u'critical', u'crm', u'cross', u'css', u'culture', u'current', u'currently', u'currently looking', u'currently seeking', u'curriculum', u'custom', u'customer', u'customer satisfaction', u'customer service', u'customer service skills', u'customers', u'cutting', u'cutting edge', u'cycle', u'daily', u'daily basis', u'data', u'data entry', u'database', u'databases', u'date', u'day', u'day day', u'days', u'de', u'deadlines', u'deal', u'dealership', u'decision', u'decision making', u'decisions', u'dedicated', u'define', u'defined', u'degree', u'degree equivalent', u'degree preferred', u'degree required', u'deliver', u'deliverables', u'delivering', u'delivery', u'demand', u'demands', u'demeanor', u'demonstrate', u'demonstrated', u'demonstrated ability', u'demonstrates', u'dental', u'dental insurance', u'dental vision', u'department', u'departments', u'dependable', u'depending', u'deployment', u'depth', u'description', u'design', u'design development', u'designated', u'designed', u'designer', u'designing', u'designs', u'desirable', u'desire', u'desired', u'desk', u'desktop', u'detail', u'detail oriented', u'detailed', u'details', u'determine', u'develop', u'develop maintain', u'developed', u'developer', u'developers', u'developing', u'development', u'development experience', u'develops', u'devices', u'difference', u'different', u'digital', u'dining', u'diploma', u'diploma equivalent', u'diploma ged', u'direct', u'directed', u'direction', u'directly', u'director', u'directors', u'disabilities', u'disabilities perform', u'disabilities perform essential', u'disabilities perform essential functions', u'disability', u'discipline', u'distribution', u'district', u'diverse', u'division', u'document', u'documentation', u'documents', u'doe', u'done', u'dot', u'drawings', u'drive', u'driven', u'driver', u'driver license', u'drivers', u'driving', u'driving record', u'drug', u'drug screen', u'due', u'duties', u'duties assigned', u'duties include', u'duties responsibilities', u'duty', u'dynamic', u'dynamics', u'early', u'earn', u'earning', u'easy', u'edge', u'education', u'education experience', u'educational', u'effective', u'effectively', u'efficiency', u'efficient', u'efficiently', u'effort', u'efforts', u'either', u'electrical', u'electronic', u'eligible', u'email', u'email resume', u'emergency', u'emphasis', u'employee', u'employees', u'employer', u'employment', u'enable', u'enable individuals', u'enable individuals disabilities', u'enable individuals disabilities perform', u'encouraged', u'end', u'energetic', u'energy', u'engagement', u'engineer', u'engineering', u'engineers', u'english', u'enhance', u'enjoy', u'ensure', u'ensure compliance', u'ensures', u'ensuring', u'enter', u'enterprise', u'enthusiastic', u'entire', u'entrepreneurial', u'entry', u'entry level', u'environment', u'environmental', u'environments', u'eoe', u'equal', u'equal opportunity', u'equal opportunity employer', u'equipment', u'equivalent', u'equivalent experience', u'essential', u'essential duties', u'essential duties responsibilities', u'essential functions', u'essential job', u'establish', u'established', u'estate', u'estimates', u'etc', u'ethic', u'evaluate', u'evaluation', u'even', u'evening', u'evenings', u'event', u'events', u'every', u'example', u'example com', u'example example', u'example example com', u'exceed', u'excel', u'excel powerpoint', u'excellence', u'excellent', u'excellent communication', u'excellent communication skills', u'excellent customer', u'excellent customer service', u'excellent interpersonal', u'excellent verbal', u'excellent verbal written', u'excellent verbal written communication', u'excellent written', u'excellent written verbal', u'exceptional', u'exchange', u'exciting', u'execute', u'execution', u'executive', u'executives', u'existing', u'expand', u'expanding', u'expectations', u'expected', u'expense', u'expenses', u'experience', u'experience developing', u'experience experience', u'experience managing', u'experience minimum', u'experience must', u'experience plus', u'experience preferred', u'experience required', u'experience strong', u'experience using', u'experience working', u'experience years', u'experienced', u'experiences', u'expert', u'expertise', u'exposure', u'extensive', u'external', u'extremely', u'face', u'facilitate', u'facilities', u'facility', u'familiar', u'familiarity', u'families', u'family', u'fashion', u'fast', u'fast growing', u'fast paced', u'fast paced environment', u'fastest', u'fastest growing', u'fax', u'features', u'federal', u'federal state', u'feedback', u'feel', u'field', u'file', u'files', u'filing', u'fill', u'final', u'finance', u'financial', u'financial services', u'find', u'firm', u'first', u'fit', u'fitness', u'five', u'five years', u'flexibility', u'flexible', u'flexible hours', u'flexible schedule', u'floor', u'florida', u'flow', u'focus', u'focused', u'follow', u'following', u'follows', u'food', u'force', u'form', u'forms', u'forward', u'founded', u'four', u'free', u'frequently', u'friday', u'friendly', u'front', u'front end', u'full', u'full service', u'full time', u'full time position', u'fully', u'fun', u'function', u'functional', u'functions', u'future', u'gain', u'gas', u'gathering', u'ged', u'general', u'general manager', u'generate', u'generating', u'generation', u'generous', u'get', u'give', u'given', u'global', u'go', u'goal', u'goals', u'going', u'good', u'google', u'government', u'graduate', u'graphic', u'great', u'great opportunity', u'greater', u'ground', u'group', u'groups', u'grow', u'growing', u'growing company', u'growth', u'guest', u'guests', u'guidance', u'guidelines', u'hand', u'handle', u'handling', u'hands', u'hard', u'hardware', u'hardware software', u'health', u'health care', u'health dental', u'health insurance', u'healthcare', u'hear', u'heavy', u'help', u'helpful', u'helping', u'helps', u'high', u'high energy', u'high level', u'high quality', u'high school', u'high school diploma', u'high school diploma equivalent', u'high school diploma ged', u'high volume', u'higher', u'highest', u'highly', u'highly motivated', u'hire', u'hiring', u'history', u'hold', u'holiday', u'holidays', u'home', u'home care', u'home health', u'homes', u'hospital', u'hospitality', u'hotel', u'hour', u'hourly', u'hours', u'hours per', u'hours per week', u'house', u'hr', u'html', u'html css', u'human', u'human resources', u'hvac', u'ideal', u'ideal candidate', u'ideas', u'identify', u'identifying', u'immediate', u'immediately', u'impact', u'implement', u'implementation', u'implementing', u'implements', u'important', u'improve', u'improvement', u'improvements', u'improving', u'inbound', u'inc', u'include', u'include limited', u'includes', u'including', u'including limited', u'income', u'incoming', u'increase', u'independent', u'independently', u'individual', u'individual must', u'individuals', u'individuals disabilities', u'individuals disabilities perform', u'individuals disabilities perform essential', u'industrial', u'industries', u'industry', u'industry experience', u'information', u'information technology', u'infrastructure', u'initial', u'initiative', u'initiatives', u'innovation', u'innovative', u'input', u'inquiries', u'inside', u'inside sales', u'inspection', u'inspections', u'installation', u'instructions', u'insurance', u'integrated', u'integration', u'integrity', u'interact', u'interaction', u'interactive', u'interest', u'interested', u'interface', u'internal', u'internal external', u'international', u'internet', u'interpersonal', u'interpersonal communication', u'interpersonal skills', u'interpret', u'interview', u'interviews', u'inventory', u'investment', u'invoices', u'involved', u'issue', u'issues', u'items', u'java', u'javascript', u'job', u'job description', u'job duties', u'job functions', u'job requirements', u'job responsibilities', u'job summary', u'jobs', u'join', u'join team', u'jquery', u'judgment', u'keep', u'keeping', u'key', u'kitchen', u'know', u'knowledge', u'knowledge experience', u'knowledge skills', u'knowledge skills abilities', u'knowledgeable', u'labor', u'language', u'languages', u'large', u'largest', u'last', u'law', u'laws', u'lbs', u'lead', u'leader', u'leaders', u'leadership', u'leadership skills', u'leading', u'leads', u'learn', u'learning', u'least', u'least years', u'legal', u'letter', u'letter resume', u'level', u'levels', u'liaison', u'license', u'licensed', u'licensure', u'life', u'life insurance', u'lift', u'lifting', u'light', u'like', u'limited', u'line', u'lines', u'link', u'linux', u'list', u'listed', u'listening', u'little', u'live', u'lives', u'living', u'llc', u'load', u'loan', u'loans', u'local', u'located', u'location', u'locations', u'logistics', u'long', u'long term', u'look', u'looking', u'looking experienced', u'looking someone', u'loss', u'love', u'low', u'machine', u'machines', u'made', u'made enable', u'made enable individuals', u'made enable individuals disabilities', u'mail', u'main', u'maintain', u'maintained', u'maintaining', u'maintains', u'maintenance', u'major', u'make', u'makes', u'making', u'manage', u'manage multiple', u'managed', u'management', u'management experience', u'management skills', u'management team', u'manager', u'manager responsible', u'managers', u'manages', u'managing', u'manner', u'manual', u'manufacturer', u'manufacturing', u'many', u'market', u'marketing', u'markets', u'massage', u'master', u'match', u'matching', u'material', u'materials', u'math', u'matter', u'matters', u'maximize', u'may', u'may made', u'may made enable', u'may made enable individuals', u'may required', u'md', u'mechanical', u'media', u'medical', u'medical dental', u'medical dental vision', u'medicine', u'meet', u'meet deadlines', u'meeting', u'meetings', u'meets', u'member', u'members', u'mental', u'merchandise', u'merchandising', u'met', u'methods', u'metrics', u'microsoft', u'microsoft office', u'microsoft word', u'mid', u'military', u'million', u'minimal', u'minimal supervision', u'minimum', u'minimum years', u'minimum years experience', u'mission', u'mobile', u'model', u'modeling', u'models', u'monday', u'monday friday', u'money', u'monitor', u'monitoring', u'monitors', u'month', u'monthly', u'months', u'mortgage', u'motivate', u'motivated', u'move', u'moving', u'ms', u'ms office', u'much', u'multi', u'multi task', u'multiple', u'multiple projects', u'multiple tasks', u'must', u'must ability', u'must able', u'must able pass', u'must able work', u'must excellent', u'must experience', u'must least', u'must possess', u'must strong', u'must willing', u'name', u'nation', u'national', u'nationwide', u'nature', u'near', u'necessary', u'need', u'needed', u'needs', u'net', u'network', u'networking', u'new', u'new business', u'new existing', u'new york', u'next', u'night', u'nights', u'nj', u'non', u'north', u'note', u'notes', u'number', u'nurse', u'nursing', u'ny', u'objectives', u'obtain', u'occasionally', u'occupational', u'offer', u'offer competitive', u'offered', u'offering', u'offers', u'offers competitive', u'office', u'office suite', u'officer', u'offices', u'oil', u'old', u'one', u'one year', u'ongoing', u'online', u'open', u'opening', u'openings', u'operate', u'operating', u'operation', u'operational', u'operations', u'operator', u'opportunities', u'opportunity', u'opportunity employer', u'optimization', u'options', u'oracle', u'oral', u'oral communication', u'oral written', u'oral written communication', u'oral written communication skills', u'order', u'orders', u'organization', u'organizational', u'organizational skills', u'organizations', u'organize', u'organized', u'orientation', u'oriented', u'others', u'outbound', u'outgoing', u'outlook', u'outreach', u'outside', u'outside sales', u'outstanding', u'overall', u'oversee', u'oversight', u'overtime', u'overview', u'owned', u'owner', u'owners', u'ownership', u'pa', u'paced', u'paced environment', u'package', u'package including', u'packages', u'paid', u'paid holidays', u'paid time', u'paid vacation', u'paperwork', u'part', u'part team', u'part time', u'participate', u'participates', u'participation', u'parties', u'partner', u'partners', u'parts', u'party', u'pass', u'passion', u'passionate', u'past', u'patient', u'patient care', u'patients', u'pay', u'payment', u'payments', u'payroll', u'pc', u'people', u'per', u'per hour', u'per week', u'per year', u'perform', u'perform duties', u'perform essential', u'perform essential functions', u'perform job', u'performance', u'performed', u'performing', u'performs', u'period', u'periods', u'permanent', u'person', u'personal', u'personality', u'personnel', u'pharmacy', u'phone', u'phone calls', u'phones', u'photoshop', u'php', u'physical', u'physical demands', u'physician', u'physicians', u'pipeline', u'place', u'placement', u'plan', u'planning', u'plans', u'plant', u'platform', u'platforms', u'play', u'player', u'please', u'please apply', u'please contact', u'please email', u'please email resume', u'please send', u'please send resume', u'please submit', u'please submit resume', u'please visit', u'plumbing', u'plus', u'plus experience', u'pm', u'point', u'policies', u'policies procedures', u'policy', u'portfolio', u'position', u'position requires', u'position responsible', u'position summary', u'positions', u'positive', u'positive attitude', u'possess', u'possible', u'post', u'posting', u'potential', u'pounds', u'power', u'powerpoint', u'practice', u'practices', u'pre', u'pre employment', u'prefer', u'preferably', u'preferred', u'preferred experience', u'preferred required', u'premier', u'preparation', u'prepare', u'prepares', u'preparing', u'presence', u'present', u'presentation', u'presentation skills', u'presentations', u'president', u'press', u'pressure', u'previous', u'previous experience', u'price', u'pricing', u'pride', u'primarily', u'primary', u'principles', u'print', u'prior', u'prior experience', u'priorities', u'prioritize', u'private', u'proactive', u'proactively', u'problem', u'problem solving', u'problem solving skills', u'problems', u'procedures', u'process', u'processes', u'processing', u'produce', u'product', u'product development', u'production', u'productivity', u'products', u'products services', u'professional', u'professionalism', u'professionally', u'professionals', u'proficiency', u'proficient', u'proficient microsoft', u'profit', u'profitability', u'program', u'programming', u'programs', u'progress', u'project', u'project management', u'project manager', u'projects', u'promote', u'promotions', u'proof', u'proper', u'properly', u'property', u'proposals', u'prospect', u'prospecting', u'prospective', u'prospects', u'protocols', u'proven', u'proven ability', u'proven track', u'proven track record', u'provide', u'provided', u'provider', u'providers', u'provides', u'providing', u'public', u'public relations', u'purchase', u'purchasing', u'purpose', u'qualifications', u'qualified', u'qualified candidates', u'quality', u'quality assurance', u'quality control', u'quarterly', u'questions', u'quick', u'quickbooks', u'quickly', u'range', u'rapidly', u'rapidly growing', u'rate', u'rates', u'reach', u'read', u'reading', u'ready', u'real', u'real estate', u'reasonable', u'reasonable accommodations', u'reasonable accommodations may', u'reasonable accommodations may made', u'receive', u'received', u'receiving', u'recent', u'recognized', u'recommend', u'recommendations', u'record', u'records', u'recruiters', u'recruiting', u'recruitment', u'references', u'referral', u'referrals', u'regarding', u'region', u'regional', u'registered', u'regular', u'regularly', u'regulations', u'regulatory', u'reimbursement', u'related', u'related experience', u'related field', u'relations', u'relationship', u'relationships', u'relevant', u'reliable', u'reliable transportation', u'relocation', u'remain', u'remote', u'repair', u'repairs', u'reply', u'report', u'reporting', u'reports', u'represent', u'representative', u'representatives', u'reputation', u'request', u'requested', u'requests', u'require', u'required', u'required experience', u'required must', u'required skills', u'requirement', u'requirements', u'requirements bachelor', u'requirements bachelor degree', u'requirements must', u'requires', u'research', u'resident', u'residential', u'residents', u'resolution', u'resolve', u'resolving', u'resource', u'resources', u'respect', u'respond', u'response', u'responsibilities', u'responsibilities include', u'responsibility', u'responsible', u'restaurant', u'results', u'resume', u'resume cover', u'resume cover letter', u'resume salary', u'resumes', u'retail', u'retention', u'retirement', u'revenue', u'review', u'reviewing', u'reviews', u'rewarding', u'right', u'right candidate', u'risk', u'rn', u'road', u'role', u'room', u'rooms', u'routine', u'rules', u'run', u'running', u'safe', u'safety', u'salary', u'salary requirements', u'sale', u'sales', u'sales experience', u'sales manager', u'sales marketing', u'sales representative', u'sales representatives', u'sales team', u'san', u'sap', u'satisfaction', u'saturday', u'scale', u'schedule', u'scheduled', u'schedules', u'scheduling', u'school', u'school diploma', u'school diploma equivalent', u'school diploma ged', u'schools', u'science', u'scope', u'screen', u'screening', u'search', u'searching', u'secure', u'security', u'see', u'seek', u'seeking', u'seeking experienced', u'seeks', u'select', u'selected', u'selection', u'self', u'self motivated', u'self starter', u'sell', u'selling', u'send', u'send resume', u'senior', u'sense', u'serve', u'server', u'servers', u'serves', u'service', u'service experience', u'service skills', u'services', u'serving', u'sessions', u'set', u'sets', u'setting', u'several', u'shall', u'share', u'sharepoint', u'sharing', u'shift', u'shifts', u'shipping', u'shop', u'short', u'short term', u'show', u'shows', u'sick', u'side', u'sign', u'significant', u'similar', u'simple', u'since', u'site', u'sites', u'situations', u'six', u'size', u'skill', u'skilled', u'skills', u'skills abilities', u'skills ability', u'skills ability work', u'skills excellent', u'skills experience', u'skills including', u'skills knowledge', u'skills must', u'skills required', u'skills strong', u'small', u'social', u'social media', u'software', u'software development', u'solid', u'solution', u'solutions', u'solve', u'solving', u'solving skills', u'someone', u'sound', u'source', u'sources', u'south', u'spa', u'space', u'spanish', u'speak', u'speaking', u'special', u'specialist', u'specialized', u'specialty', u'specific', u'specifically', u'specifications', u'sports', u'sql', u'sql server', u'stable', u'staff', u'staffing', u'stakeholders', u'stand', u'standard', u'standards', u'standing', u'start', u'starter', u'starting', u'state', u'statements', u'states', u'status', u'stay', u'stock', u'storage', u'store', u'store manager', u'stores', u'strategic', u'strategies', u'strategy', u'strong', u'strong analytical', u'strong communication', u'strong communication skills', u'strong interpersonal', u'strong knowledge', u'strong organizational', u'strong work', u'strong work ethic', u'strongly', u'structure', u'student', u'students', u'style', u'subject', u'submit', u'submit resume', u'succeed', u'success', u'successful', u'successful candidate', u'successfully', u'suite', u'summary', u'superior', u'supervise', u'supervision', u'supervisor', u'supervisory', u'supplier', u'suppliers', u'supplies', u'supply', u'support', u'supporting', u'supports', u'sure', u'system', u'systems', u'take', u'takes', u'taking', u'talent', u'talented', u'talk', u'target', u'targets', u'task', u'tasks', u'tax', u'teaching', u'team', u'team environment', u'team member', u'team members', u'team oriented', u'team player', u'teams', u'teamwork', u'tech', u'technical', u'technical support', u'technician', u'technicians', u'techniques', u'technologies', u'technology', u'telephone', u'term', u'term disability', u'terms', u'territory', u'test', u'testing', u'tests', u'texas', u'thank', u'therapist', u'therapy', u'things', u'think', u'thinking', u'third', u'third party', u'thorough', u'three', u'three years', u'thrive', u'throughout', u'time', u'time management', u'time management skills', u'time position', u'timely', u'timely manner', u'times', u'title', u'today', u'together', u'tool', u'tools', u'top', u'total', u'track', u'track record', u'tracking', u'trade', u'traditional', u'train', u'trained', u'training', u'training program', u'transactions', u'transportation', u'travel', u'treatment', u'trends', u'troubleshoot', u'troubleshooting', u'truck', u'two', u'two years', u'tx', u'type', u'types', u'ui', u'understand', u'understanding', u'understands', u'unique', u'unit', u'united', u'united states', u'units', u'university', u'update', u'updates', u'upon', u'us', u'usa', u'use', u'used', u'user', u'users', u'using', u'utilize', u'utilizing', u'va', u'vacation', u'valid', u'valid driver', u'valid driver license', u'validation', u'value', u'values', u'variety', u'various', u'vehicle', u'vehicles', u'vendor', u'vendors', u'verbal', u'verbal communication', u'verbal communication skills', u'verbal written', u'verbal written communication', u'verbal written communication skills', u'verification', u'verify', u'veteran', u'via', u'video', u'vision', u'visit', u'visit website', u'visit website www', u'visit website www example', u'visit www', u'visit www example', u'visit www example com', u'visits', u'visual', u'voice', u'volume', u'walk', u'want', u'warehouse', u'washington', u'water', u'way', u'web', u'web based', u'web services', u'website', u'website www', u'website www example', u'website www example com', u'websites', u'week', u'weekend', u'weekends', u'weekly', u'weeks', u'welcome', u'well', u'wellness', u'west', u'wide', u'willing', u'willingness', u'windows', u'winning', u'wireless', u'within', u'without', u'word', u'word excel', u'work', u'work closely', u'work environment', u'work ethic', u'work experience', u'work fast', u'work fast paced', u'work independently', u'work schedule', u'work team', u'work well', u'worked', u'worker', u'workers', u'working', u'working knowledge', u'workplace', u'works', u'world', u'worldwide', u'would', u'would like', u'write', u'writing', u'written', u'written communication', u'written communication skills', u'written oral', u'written verbal', u'written verbal communication', u'written verbal communication skills', u'www', u'www example', u'www example com', u'xml', u'xxx', u'year', u'year experience', u'years', u'years experience', u'years related', u'york', u'yrs']\n"
     ]
    }
   ],
   "source": [
    "# Take a look at the words in the job description vocabulary\n",
    "\n",
    "vocab_description = vectorizer1.get_feature_names()\n",
    "print \"Job label vocabulary: \\n\", vocab_description"
   ]
  },
  {
   "cell_type": "code",
   "execution_count": 18,
   "metadata": {
    "collapsed": false
   },
   "outputs": [
    {
     "name": "stdout",
     "output_type": "stream",
     "text": [
      "Job label vocabulary: \n",
      "[u'1-year-experience-needed', u'2-4-years-experience-needed', u'5-plus-years-experience-needed', u'associate-needed', u'bs-degree-needed', u'full-time-job', u'hourly-wage', u'licence-needed', u'ms-or-phd-needed', u'part-time-job', u'salary', u'supervising-job']\n"
     ]
    }
   ],
   "source": [
    "# Take a look at the words in the job label vocabulary (should be the 12 labels)\n",
    "\n",
    "vocab = vectorizer2.get_feature_names()\n",
    "print \"Job label vocabulary: \\n\", vocab"
   ]
  },
  {
   "cell_type": "code",
   "execution_count": 19,
   "metadata": {
    "collapsed": false
   },
   "outputs": [
    {
     "name": "stdout",
     "output_type": "stream",
     "text": [
      "331 1-year-experience-needed\n",
      "1043 2-4-years-experience-needed\n",
      "636 5-plus-years-experience-needed\n",
      "209 associate-needed\n",
      "970 bs-degree-needed\n",
      "885 full-time-job\n",
      "451 hourly-wage\n",
      "524 licence-needed\n",
      "83 ms-or-phd-needed\n",
      "328 part-time-job\n",
      "669 salary\n",
      "751 supervising-job\n"
     ]
    }
   ],
   "source": [
    "import numpy as np\n",
    "\n",
    "# Sum up the counts of each vocabulary word\n",
    "dist = np.sum(train_data_labels, axis=0)\n",
    "\n",
    "# For each, print the vocabulary word and the number of times it \n",
    "# appears in the training set\n",
    "for tag, count in zip(vocab, dist):\n",
    "    print count, tag"
   ]
  },
  {
   "cell_type": "code",
   "execution_count": 27,
   "metadata": {
    "collapsed": false
   },
   "outputs": [
    {
     "name": "stdout",
     "output_type": "stream",
     "text": [
      "Results for Training: \n",
      "             precision    recall  f1-score   support\n",
      "\n",
      "          0       1.00      0.83      0.91       233\n",
      "          1       1.00      0.93      0.96       719\n",
      "          2       1.00      0.88      0.93       430\n",
      "          3       1.00      0.81      0.90       153\n",
      "          4       1.00      0.97      0.98       680\n",
      "          5       1.00      0.90      0.95       610\n",
      "          6       1.00      0.91      0.96       317\n",
      "          7       1.00      0.87      0.93       382\n",
      "          8       1.00      0.77      0.87        48\n",
      "          9       1.00      0.91      0.95       225\n",
      "         10       1.00      0.87      0.93       451\n",
      "         11       1.00      0.88      0.93       529\n",
      "\n",
      "avg / total       1.00      0.90      0.95      4777\n",
      "\n",
      "\n",
      "\n",
      "Results for Testing: \n",
      "             precision    recall  f1-score   support\n",
      "\n",
      "          0       0.00      0.00      0.00        98\n",
      "          1       0.57      0.16      0.25       324\n",
      "          2       0.62      0.05      0.09       206\n",
      "          3       0.00      0.00      0.00        56\n",
      "          4       0.88      0.60      0.71       290\n",
      "          5       0.67      0.13      0.22       275\n",
      "          6       0.93      0.19      0.31       134\n",
      "          7       0.65      0.08      0.14       142\n",
      "          8       0.00      0.00      0.00        35\n",
      "          9       0.80      0.19      0.31       103\n",
      "         10       0.78      0.06      0.12       218\n",
      "         11       0.56      0.06      0.11       222\n",
      "\n",
      "avg / total       0.64      0.17      0.24      2103\n",
      "\n",
      "total train/test/prediction time: 0.669 s\n"
     ]
    },
    {
     "name": "stderr",
     "output_type": "stream",
     "text": [
      "/Users/stephenfox/anaconda/lib/python2.7/site-packages/sklearn/metrics/classification.py:1074: UndefinedMetricWarning: Precision and F-score are ill-defined and being set to 0.0 in labels with no predicted samples.\n",
      "  'precision', 'predicted', average, warn_for)\n"
     ]
    }
   ],
   "source": [
    "# Evaluate a few classifiers, then choose one for optimizing next\n",
    "\n",
    "# Import the desired classifiers, splitters, metrics etc.\n",
    "\n",
    "from sklearn.tree import DecisionTreeClassifier\n",
    "from sklearn.neighbors import KNeighborsClassifier\n",
    "from sklearn.ensemble import RandomForestClassifier\n",
    "\n",
    "from sklearn.cross_validation import train_test_split\n",
    "from sklearn.metrics import classification_report\n",
    "\n",
    "from time import time\n",
    "\n",
    "# All classifiers are named clf for compatibility with tester.py\n",
    "# Comment out ('#') all classifiers other than the desired one\n",
    "\n",
    "#clf = DecisionTreeClassifier(random_state=42)\n",
    "#clf = KNeighborsClassifier()\n",
    "clf = RandomForestClassifier(random_state=42)\n",
    "\n",
    "# Split data into training and testing sets, using 30% split\n",
    "\n",
    "t0 = time()\n",
    "\n",
    "features_train, features_test, labels_train, labels_test = \\\n",
    "    train_test_split(train_data_features, train_data_labels, test_size=0.3, random_state=42)\n",
    "    \n",
    "clf.fit(features_train,labels_train)\n",
    "labels_train_est = clf.predict(features_train)\n",
    "labels_pred = clf.predict(features_test)\n",
    "\n",
    "print \"Results for Training: \\n\", classification_report(labels_train, labels_train_est)\n",
    "print \"\\n\"\n",
    "print \"Results for Testing: \\n\", classification_report(labels_test, labels_pred)\n",
    "\n",
    "print \"total train/test/prediction time:\", round(time()-t0, 3), \"s\""
   ]
  },
  {
   "cell_type": "code",
   "execution_count": 75,
   "metadata": {
    "collapsed": false
   },
   "outputs": [
    {
     "name": "stdout",
     "output_type": "stream",
     "text": [
      "model build and validation time: 916.158 s\n",
      "\n",
      "\n",
      "Best F1 score: 1.000\n",
      "\n",
      "\n",
      "Best Parameters:\n",
      "\n",
      "\n",
      "{'algo__max_features': None, 'algo__n_estimators': 9, 'algo__n_jobs': -1}\n",
      "\n",
      "\n",
      "Results on Training set: \n",
      "             precision    recall  f1-score   support\n",
      "\n",
      "          0       1.00      0.88      0.93       309\n",
      "          1       0.99      0.98      0.99       995\n",
      "          2       0.99      0.95      0.97       604\n",
      "          3       1.00      0.93      0.97       199\n",
      "          4       0.99      0.98      0.98       926\n",
      "          5       0.98      0.95      0.96       841\n",
      "          6       1.00      0.95      0.97       433\n",
      "          7       1.00      0.92      0.96       492\n",
      "          8       1.00      0.83      0.91        77\n",
      "          9       0.98      0.92      0.95       316\n",
      "         10       0.99      0.95      0.97       637\n",
      "         11       1.00      0.94      0.97       708\n",
      "\n",
      "avg / total       0.99      0.95      0.97      6537\n",
      "\n",
      "\n",
      "\n",
      "Results on Full set: \n",
      "             precision    recall  f1-score   support\n",
      "\n",
      "          0       0.99      0.82      0.90       331\n",
      "          1       0.97      0.96      0.96      1043\n",
      "          2       0.98      0.93      0.95       636\n",
      "          3       1.00      0.89      0.94       209\n",
      "          4       0.98      0.97      0.97       970\n",
      "          5       0.98      0.93      0.95       885\n",
      "          6       0.98      0.94      0.96       451\n",
      "          7       0.99      0.88      0.93       524\n",
      "          8       1.00      0.78      0.88        83\n",
      "          9       0.98      0.91      0.94       328\n",
      "         10       0.97      0.93      0.95       669\n",
      "         11       0.99      0.89      0.94       751\n",
      "\n",
      "avg / total       0.98      0.92      0.95      6880\n",
      "\n",
      "\n",
      "\n",
      "Results on Testing set: \n",
      "             precision    recall  f1-score   support\n",
      "\n",
      "          0       0.67      0.09      0.16        22\n",
      "          1       0.48      0.42      0.44        48\n",
      "          2       0.58      0.47      0.52        32\n",
      "          3       1.00      0.10      0.18        10\n",
      "          4       0.77      0.82      0.79        44\n",
      "          5       0.82      0.61      0.70        44\n",
      "          6       0.63      0.67      0.65        18\n",
      "          7       0.80      0.25      0.38        32\n",
      "          8       1.00      0.17      0.29         6\n",
      "          9       0.86      0.50      0.63        12\n",
      "         10       0.57      0.50      0.53        32\n",
      "         11       0.62      0.12      0.20        43\n",
      "\n",
      "avg / total       0.68      0.43      0.49       343\n",
      "\n",
      "total train/test/prediction time: 0.549 s\n"
     ]
    }
   ],
   "source": [
    "# This code block was used to optimize the model\n",
    "# Various pipe components were commented / uncommented to test their effects\n",
    "# The process and interim results are discussed in the accompanying report\n",
    "\n",
    "# Import the necessary libaries\n",
    "\n",
    "from sklearn.pipeline import make_pipeline, Pipeline, FeatureUnion\n",
    "from sklearn.decomposition import PCA\n",
    "from sklearn.feature_selection import SelectKBest,f_classif\n",
    "from sklearn.preprocessing import MinMaxScaler\n",
    "from sklearn.cross_validation import StratifiedShuffleSplit\n",
    "from sklearn.grid_search import GridSearchCV\n",
    "\n",
    "t0 = time()\n",
    "\n",
    "# Build estimator from PCA and Univariate selection:\n",
    "\n",
    "#combined_features = FeatureUnion([('pca', PCA()), ('select', SelectKBest())])\n",
    "\n",
    "# Use combined features to transform dataset:\n",
    "\n",
    "#X_features = combined_features.fit(features,labels).transform(features)\n",
    "\n",
    "# Piping: combine scaling, feature selection, PCA and classification\n",
    "# into a single pipeline\n",
    "\n",
    "#algo = DecisionTreeClassifier(random_state=42)\n",
    "algo = RandomForestClassifier(random_state=42)\n",
    "\n",
    "pipe = Pipeline([\n",
    "#        ('scaler',MinMaxScaler()),\n",
    "#        ('select',SelectKBest()),\n",
    "#                 ('reduce_dim', PCA()),\n",
    "#        ('features',combined_features),\n",
    "                 ('algo',algo)\n",
    "    ])\n",
    "\n",
    "# Cross Validation - choose parameters that maximize the F1 score\n",
    "\n",
    "# Parameter grid\n",
    "\n",
    "para = {\n",
    "#    'select__k':[23],\n",
    "#    'select__k':np.arange(22,24),\n",
    "#    'reduce_dim__n_components':np.arange(1,15),\n",
    "#    'features__pca__n_components':[1, 2, 3],\n",
    "#    'features__select__k':np.arange(1,24),\n",
    "#    'algo__criterion': [\"gini\"],\n",
    "#    'algo__criterion': [\"gini\",\"entropy\"],\n",
    "#    'algo__min_samples_split': [10],\n",
    "#    'algo__min_samples_split': [2, 10, 20],\n",
    "#    'algo__min_samples_split': np.arange(2,6),\n",
    "#    'algo__max_depth': [9],\n",
    "#    'algo__max_depth': [None, 2, 5, 10],\n",
    "#    'algo__max_depth': np.arange(8, 15),\n",
    "#    'algo__n_estimators': np.arange(8,12)],\n",
    "#    'algo__n_estimators': [9,15,25,50,75,100,125],\n",
    "    'algo__n_estimators': [9],\n",
    "#    'algo__max_features': ['auto',None,2,5,10],\n",
    "    'algo__max_features': [None],\n",
    "#    'algo__criterion': [\"gini\",\"entropy\"],\n",
    "#    'algo__max_depth': [None,2,5,10],\n",
    "#    'algo__min_samples_split': np.arange(1,5),\n",
    "#    'algo__min_samples_leaf': np.arange(1,5),\n",
    "#    'algo__min_weight_fraction_leaf': [0,0.05,0.1,0.2,0.5],\n",
    "#    'algo__max_leaf_nodes':[None,2,3,5],\n",
    "    'algo__n_jobs': [-1],\n",
    "#    'algo__oob_score': [True,False]\n",
    "#    'algo__min_samples_leaf': [1],\n",
    "#    'algo__min_samples_leaf': [1, 5, 10],\n",
    "#    'algo__min_samples_leaf': np.arange(1,3),\n",
    "#    'algo__class_weight':[\"balanced\"],\n",
    "#    'algo__class_weight':[\"balanced\",None],\n",
    "#    'algo__max_leaf_nodes':[None,2,5,10],\n",
    "#    'algo__max_leaf_nodes':np.arange(7,11),\n",
    "#    'algo__splitter': [\"random\"]\n",
    "#    'algo__splitter': [\"best\",\"random\"]\n",
    "       }\n",
    "\n",
    "# Because of the small size of the dataset, use stratified shuffle split cross validation\n",
    "# I found that 50 splits provided scores that closely matched the tester.py results and also\n",
    "# kept runtimes to relatively reasonable durations\n",
    "\n",
    "sss = StratifiedShuffleSplit(train_data_labels, 10, random_state = 42)\n",
    "#cv_clf = GridSearchCV(pipe,param_grid=para, cv = sss, scoring='f1_weighted')\n",
    "\n",
    "# Use 20% holdout for post CV testing\n",
    "\n",
    "features_train, features_test, labels_train, labels_test = \\\n",
    "    train_test_split(train_data_features, train_data_labels, test_size=0.05, random_state=42)\n",
    "\n",
    "sss = StratifiedShuffleSplit(labels_train, 10, random_state = 42)\n",
    "cv_clf = GridSearchCV(pipe,param_grid=para, cv = sss, scoring='f1_weighted')\n",
    "\n",
    "# Run CV on the training subset only\n",
    "cv_clf.fit(features_train,labels_train)\n",
    "clf = cv_clf.best_estimator_\n",
    "\n",
    "print \"model build and validation time:\", round(time()-t0, 3), \"s\"\n",
    "print '\\n'\n",
    "print \"Best F1 score: %0.3f\" % cv_clf.best_score_\n",
    "print '\\n'\n",
    "print \"Best Parameters:\"\n",
    "print '\\n'\n",
    "print cv_clf.best_params_\n",
    "print '\\n'\n",
    "\n",
    "# Split data into training and testing sets, using 30% split\n",
    "\n",
    "t0 = time()\n",
    "\n",
    "#features_train, features_test, labels_train, labels_test = \\\n",
    "#    train_test_split(train_data_features, train_data_labels, test_size=0.3, random_state=42)\n",
    "    \n",
    "#clf.fit(features_train,labels_train)\n",
    "labels_train_est = clf.predict(features_train)\n",
    "labels_full_est = clf.predict(train_data_features)\n",
    "labels_pred = clf.predict(features_test)\n",
    "\n",
    "print \"Results on Training set: \\n\", classification_report(labels_train, labels_train_est)\n",
    "print \"\\n\"\n",
    "print \"Results on Full set: \\n\", classification_report(train_data_labels, labels_full_est)\n",
    "print \"\\n\"\n",
    "print \"Results on Testing set: \\n\", classification_report(labels_test, labels_pred)\n",
    "\n",
    "print \"total train/test/prediction time:\", round(time()-t0, 3), \"s\""
   ]
  },
  {
   "cell_type": "code",
   "execution_count": 76,
   "metadata": {
    "collapsed": false
   },
   "outputs": [
    {
     "name": "stdout",
     "output_type": "stream",
     "text": [
      "(2921, 1)\n",
      "Cleaning and parsing the test set job descriptions...\n",
      "\n",
      "Job 500 of 2921\n",
      "\n",
      "Job 1000 of 2921\n",
      "\n",
      "Job 1500 of 2921\n",
      "\n",
      "Job 2000 of 2921\n",
      "\n",
      "Job 2500 of 2921\n",
      "\n"
     ]
    }
   ],
   "source": [
    "# Read the test data\n",
    "\n",
    "# Verify that there are 2,921 rows and 1 column\n",
    "print test.shape\n",
    "\n",
    "# Create an empty list and append the clean jobs one by one\n",
    "num_test = len(test[\"description\"])\n",
    "clean_test = [] \n",
    "\n",
    "print \"Cleaning and parsing the test set job descriptions...\\n\"\n",
    "for i in xrange(0,num_test):\n",
    "    if( (i+1) % 500 == 0 ):\n",
    "        print \"Job %d of %d\\n\" % (i+1, num_test)\n",
    "    raw_test = job_to_words( test[\"description\"][i] )\n",
    "    clean_test.append( raw_test )\n",
    "\n",
    "# Get a bag of words for the test set, and convert to a numpy array\n",
    "test_data_features = vectorizer1.transform(clean_test)\n",
    "test_data_features = test_data_features.toarray()\n",
    "\n",
    "# Use the classifier to make job label predictions\n",
    "result = clf.predict(test_data_features)"
   ]
  },
  {
   "cell_type": "code",
   "execution_count": 77,
   "metadata": {
    "collapsed": false
   },
   "outputs": [
    {
     "name": "stdout",
     "output_type": "stream",
     "text": [
      "tags per train set: 1.57257142857\n",
      "tags per test set: 1.0445053064\n",
      "Difference (tags per train - tags per test): 0.52806612217\n"
     ]
    }
   ],
   "source": [
    "# Compare average tags per job for train and test sets\n",
    "# I would expect the average to be similar for each set\n",
    "\n",
    "train_tagged = np.sum(train_data_labels)\n",
    "test_tagged = np.sum(result)\n",
    "\n",
    "train_size = 4375\n",
    "test_size = 2921\n",
    "\n",
    "print \"tags per train set:\", (float(train_tagged) / train_size)\n",
    "print \"tags per test set:\", (float(test_tagged) / test_size)\n",
    "\n",
    "print \"Difference (tags per train - tags per test):\",(float(train_tagged) \n",
    "                                                     / train_size) - (float(test_tagged) / test_size)"
   ]
  },
  {
   "cell_type": "code",
   "execution_count": 78,
   "metadata": {
    "collapsed": false
   },
   "outputs": [],
   "source": [
    "# Convert numerical labels back to actual descriptions\n",
    "\n",
    "num_labels = len(vocab)\n",
    "num_test = len(result)\n",
    "\n",
    "test_tags = []\n",
    "for i in range(0,num_test):\n",
    "    row = []\n",
    "    for j in range(0,num_labels):\n",
    "        if result[i][j] >= 0.5:\n",
    "            row.append(vocab[j])\n",
    "        b = ' '.join(row)\n",
    "    test_tags.append(b)"
   ]
  },
  {
   "cell_type": "code",
   "execution_count": 79,
   "metadata": {
    "collapsed": false
   },
   "outputs": [
    {
     "name": "stdout",
     "output_type": "stream",
     "text": [
      "2921\n"
     ]
    }
   ],
   "source": [
    "# Confirm the test tag contains all 2,921 test points\n",
    "\n",
    "print len(test_tags)"
   ]
  },
  {
   "cell_type": "code",
   "execution_count": 80,
   "metadata": {
    "collapsed": false
   },
   "outputs": [],
   "source": [
    "# Copy the results to a pandas dataframe with a \"tags\" header\n",
    "\n",
    "output = pd.DataFrame( data={\"tags\":test_tags})\n",
    "\n",
    "# Use pandas to write the tab-separated output file\n",
    "\n",
    "output.to_csv( \"tags.tsv\",sep='\\t',index=False)"
   ]
  },
  {
   "cell_type": "code",
   "execution_count": null,
   "metadata": {
    "collapsed": true
   },
   "outputs": [],
   "source": []
  }
 ],
 "metadata": {
  "kernelspec": {
   "display_name": "Python 2",
   "language": "python",
   "name": "python2"
  },
  "language_info": {
   "codemirror_mode": {
    "name": "ipython",
    "version": 2
   },
   "file_extension": ".py",
   "mimetype": "text/x-python",
   "name": "python",
   "nbconvert_exporter": "python",
   "pygments_lexer": "ipython2",
   "version": "2.7.12"
  }
 },
 "nbformat": 4,
 "nbformat_minor": 0
}
